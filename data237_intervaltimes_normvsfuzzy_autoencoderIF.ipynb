{
  "cells": [
    {
      "cell_type": "markdown",
      "metadata": {
        "id": "view-in-github",
        "colab_type": "text"
      },
      "source": [
        "<a href=\"https://colab.research.google.com/github/kmkkkp/bigdata_security/blob/main/data237_intervaltimes_normvsfuzzy_autoencoderIF.ipynb\" target=\"_parent\"><img src=\"https://colab.research.google.com/assets/colab-badge.svg\" alt=\"Open In Colab\"/></a>"
      ]
    },
    {
      "cell_type": "code",
      "execution_count": 1,
      "metadata": {
        "colab": {
          "base_uri": "https://localhost:8080/"
        },
        "id": "BQNhuY6CFlFo",
        "outputId": "7b5ed924-49d0-4fac-a71f-2a7374fdc2cc"
      },
      "outputs": [
        {
          "output_type": "stream",
          "name": "stdout",
          "text": [
            "Mounted at /content/drive\n"
          ]
        }
      ],
      "source": [
        "from google.colab import drive\n",
        "drive.mount('/content/drive')"
      ]
    },
    {
      "cell_type": "code",
      "execution_count": 2,
      "metadata": {
        "id": "9NeyY8leGCtt"
      },
      "outputs": [],
      "source": [
        "# importing pandas\n",
        "import numpy as np\n",
        "import pandas as pd\n",
        "from pandas.core.internals.blocks import F"
      ]
    },
    {
      "cell_type": "code",
      "execution_count": 3,
      "metadata": {
        "id": "OYXE-WVLGKwo"
      },
      "outputs": [],
      "source": [
        "import numpy as np\n",
        "import pandas as pd\n",
        "from datetime import datetime\n",
        "\n",
        "from sklearn.model_selection import train_test_split\n",
        "from sklearn.preprocessing import StandardScaler\n",
        "from sklearn.svm import SVC\n",
        "from sklearn.metrics import confusion_matrix\n",
        "#from sklearn.metrics import plot_confusion_matrix\n",
        "from sklearn import tree\n",
        "from sklearn.metrics import classification_report\n",
        "from sklearn.metrics import accuracy_score\n",
        "from sklearn import neighbors, datasets\n",
        "#from sklearn.inspection import DecisionBoundaryDisplay\n",
        "\n",
        "import sklearn.metrics\n",
        "from sklearn import metrics\n",
        "from sklearn.metrics import f1_score\n",
        "from sklearn.metrics import mean_squared_error\n",
        "\n",
        "import matplotlib.pyplot as plt\n",
        "\n",
        "from sklearn import preprocessing\n",
        "label_encoder = preprocessing.LabelEncoder()"
      ]
    },
    {
      "cell_type": "code",
      "execution_count": 30,
      "metadata": {
        "id": "OEG95NCHGPzS"
      },
      "outputs": [],
      "source": [
        "#col = [0,1,2,3,4,5,6,7,8,9,10,11]\n",
        "Fuzzy=pd.read_csv('/content/drive/MyDrive/Colab Notebooks/preprocessing_data/Fuzzy_dataset_pre.csv', index_col = 0)\n",
        "#,usecols = col"
      ]
    },
    {
      "cell_type": "code",
      "execution_count": 19,
      "metadata": {
        "colab": {
          "base_uri": "https://localhost:8080/"
        },
        "id": "dzfeb1QeH_en",
        "outputId": "76c2ae99-83d2-4ad3-8a50-98102690275b"
      },
      "outputs": [
        {
          "output_type": "stream",
          "name": "stdout",
          "text": [
            "            Timestamp  CANID  DLC  Data[0]  Data[1]  Data[2]  Data[3]  \\\n",
            "0        1.478196e+09   1349    8      216        0        0      138   \n",
            "1        1.478196e+09    688    5      255      127        0        5   \n",
            "2        1.478196e+09      2    8        0        0        0        0   \n",
            "3        1.478196e+09    339    8        0       33       16      255   \n",
            "4        1.478196e+09    304    8       25      128        0      255   \n",
            "...               ...    ...  ...      ...      ...      ...      ...   \n",
            "3838855  1.478201e+09    399    8      254       89        0        0   \n",
            "3838856  1.478201e+09    608    8       24       33       33       48   \n",
            "3838857  1.478201e+09    672    8       36        0      154       29   \n",
            "3838858  1.478201e+09    809    8      220      183      127       20   \n",
            "3838859  1.478201e+09   1349    8      216        0        0      139   \n",
            "\n",
            "         Data[4]  Data[5]  Data[6]  Data[7]  Label  interval_prev  \\\n",
            "0              0        0        0        0      0       0.000000   \n",
            "1             73        0        0        0      0       0.001859   \n",
            "2              0        1        7       21      0       0.002701   \n",
            "3              0      255        0        0      0       0.000239   \n",
            "4            254      127        7       96      0       0.000738   \n",
            "...          ...      ...      ...      ...    ...            ...   \n",
            "3838855        0       65        0        0      0       0.000225   \n",
            "3838856        8      143      109       25      0       0.000230   \n",
            "3838857      151        2      189        0      0       0.000234   \n",
            "3838858       17       32        0       20      0       0.000232   \n",
            "3838859        0        0        0        0      0       0.000241   \n",
            "\n",
            "         interval_next  interval_id  \n",
            "0             0.001859     0.000000  \n",
            "1             0.002701     0.000000  \n",
            "2             0.000239     0.000000  \n",
            "3             0.000738     0.000000  \n",
            "4             0.000246     0.000000  \n",
            "...                ...          ...  \n",
            "3838855       0.000230     0.009850  \n",
            "3838856       0.000234     0.009847  \n",
            "3838857       0.000232     0.009845  \n",
            "3838858       0.000241     0.009844  \n",
            "3838859       0.000000     0.009847  \n",
            "\n",
            "[3838860 rows x 15 columns]\n",
            "<class 'pandas.core.frame.DataFrame'>\n",
            "Int64Index: 3838860 entries, 0 to 3838859\n",
            "Data columns (total 15 columns):\n",
            " #   Column         Dtype  \n",
            "---  ------         -----  \n",
            " 0   Timestamp      float64\n",
            " 1   CANID          int64  \n",
            " 2   DLC            int64  \n",
            " 3   Data[0]        int64  \n",
            " 4   Data[1]        int64  \n",
            " 5   Data[2]        int64  \n",
            " 6   Data[3]        int64  \n",
            " 7   Data[4]        int64  \n",
            " 8   Data[5]        int64  \n",
            " 9   Data[6]        int64  \n",
            " 10  Data[7]        int64  \n",
            " 11  Label          int64  \n",
            " 12  interval_prev  float64\n",
            " 13  interval_next  float64\n",
            " 14  interval_id    float64\n",
            "dtypes: float64(4), int64(11)\n",
            "memory usage: 468.6 MB\n"
          ]
        },
        {
          "output_type": "execute_result",
          "data": {
            "text/plain": [
              "0    3347013\n",
              "2     491847\n",
              "Name: Label, dtype: int64"
            ]
          },
          "metadata": {},
          "execution_count": 19
        }
      ],
      "source": [
        "print(Fuzzy)\n",
        "Fuzzy.info()\n",
        "Fuzzy.head()\n",
        "Fuzzy['Label'].value_counts()"
      ]
    },
    {
      "cell_type": "code",
      "source": [
        "from sklearn.preprocessing import StandardScaler, MinMaxScaler\n",
        "\n",
        "X = Fuzzy.drop(['Label'], axis = 1)\n",
        "Y = Fuzzy['Label']"
      ],
      "metadata": {
        "id": "jNl-CwFX9W-U"
      },
      "execution_count": 31,
      "outputs": []
    },
    {
      "cell_type": "code",
      "source": [
        "Y.value_counts()"
      ],
      "metadata": {
        "colab": {
          "base_uri": "https://localhost:8080/"
        },
        "id": "3AXElXaQ_pAw",
        "outputId": "8e71669c-9832-41a5-ce1f-609b30f323eb"
      },
      "execution_count": 32,
      "outputs": [
        {
          "output_type": "execute_result",
          "data": {
            "text/plain": [
              "0    3347013\n",
              "2     491847\n",
              "Name: Label, dtype: int64"
            ]
          },
          "metadata": {},
          "execution_count": 32
        }
      ]
    },
    {
      "cell_type": "code",
      "source": [
        "a=0\n",
        "b=0\n",
        "for test in Y.values:\n",
        "  if test == 2:\n",
        "    a+=1\n",
        "  else: b+=1\n",
        "print(a, b)\n"
      ],
      "metadata": {
        "colab": {
          "base_uri": "https://localhost:8080/"
        },
        "id": "z6ol8xfP-iQq",
        "outputId": "98a41c9d-052d-4a39-a080-f25311fad133"
      },
      "execution_count": 33,
      "outputs": [
        {
          "output_type": "stream",
          "name": "stdout",
          "text": [
            "491847 3347013\n"
          ]
        }
      ]
    },
    {
      "cell_type": "code",
      "source": [
        "from sklearn.model_selection import train_test_split\n",
        "X_train, X_test, Y_train, Y_test = train_test_split(X, Y, stratify=Y, test_size=0.2, random_state=1)"
      ],
      "metadata": {
        "id": "8MsvMftE-AyL"
      },
      "execution_count": 34,
      "outputs": []
    },
    {
      "cell_type": "code",
      "source": [
        "a=0\n",
        "b=0\n",
        "for test in Y_train.values:\n",
        "  if test == 2:\n",
        "    a+=1\n",
        "  else: b+=1\n",
        "print(a, b)\n"
      ],
      "metadata": {
        "colab": {
          "base_uri": "https://localhost:8080/"
        },
        "id": "U9JN5DwdCRov",
        "outputId": "74b9e2ec-ff35-4eee-ba1c-465339ac1fbd"
      },
      "execution_count": 36,
      "outputs": [
        {
          "output_type": "stream",
          "name": "stdout",
          "text": [
            "393478 2677610\n"
          ]
        }
      ]
    },
    {
      "cell_type": "code",
      "execution_count": 37,
      "metadata": {
        "id": "ZfBiLTDvX5Ry"
      },
      "outputs": [],
      "source": [
        "scaler = StandardScaler()\n",
        "\n",
        "X_train = scaler.fit_transform(X_train)\n",
        "\n",
        "X_test = scaler.transform(X_test)"
      ]
    },
    {
      "cell_type": "code",
      "source": [
        "from sklearn.model_selection import GridSearchCV\n",
        "from sklearn.ensemble import IsolationForest\n",
        "from sklearn.metrics import make_scorer, accuracy_score, confusion_matrix, classification_report\n",
        "from sklearn.base import BaseEstimator, TransformerMixin\n",
        "from tensorflow.keras.models import Model\n",
        "from tensorflow.keras.layers import Input, Dense\n",
        "from tensorflow.keras.optimizers import Adam\n",
        "\n",
        "# Autoencoder 클래스 정의\n",
        "class Autoencoder(BaseEstimator, TransformerMixin):\n",
        "    def __init__(self, input_dim, encoding_dim, optimizer='adam', epochs=10, batch_size=32):\n",
        "        self.input_dim = input_dim\n",
        "        self.encoding_dim = encoding_dim\n",
        "        self.optimizer = optimizer\n",
        "        self.epochs = epochs\n",
        "        self.batch_size = batch_size\n",
        "        self.autoencoder = None\n",
        "\n",
        "    def fit(self, X, y=None):\n",
        "        input_layer = Input(shape=(self.input_dim,))\n",
        "        encoded = Dense(self.encoding_dim, activation='relu')(input_layer)\n",
        "        decoded = Dense(self.input_dim, activation='sigmoid')(encoded)\n",
        "\n",
        "        self.autoencoder = Model(inputs=input_layer, outputs=decoded)\n",
        "        self.autoencoder.compile(optimizer=self.optimizer, loss='mse')\n",
        "\n",
        "        self.autoencoder.fit(X, X, epochs=self.epochs, batch_size=self.batch_size, verbose=0)\n",
        "\n",
        "        return self\n",
        "\n",
        "    def transform(self, X):\n",
        "        encoder = Model(inputs=self.autoencoder.input, outputs=self.autoencoder.get_layer(index=1).output)\n",
        "        encoded_X = encoder.predict(X)\n",
        "        return encoded_X"
      ],
      "metadata": {
        "id": "hVoyx5uOCE_5"
      },
      "execution_count": 38,
      "outputs": []
    },
    {
      "cell_type": "code",
      "source": [
        "autoencoder_params = {\n",
        "    'input_dim': X_train.shape[1],\n",
        "    'encoding_dim': 9,\n",
        "    'optimizer': 'adam',\n",
        "    'epochs': 10,\n",
        "    'batch_size': 32\n",
        "}"
      ],
      "metadata": {
        "id": "8y-7LchsCGiS"
      },
      "execution_count": 39,
      "outputs": []
    },
    {
      "cell_type": "code",
      "source": [
        "# Autoencoder 모델 학습\n",
        "autoencoder = Autoencoder(\n",
        "    input_dim=autoencoder_params['input_dim'],\n",
        "    encoding_dim=autoencoder_params['encoding_dim'],\n",
        "    optimizer=autoencoder_params['optimizer'],\n",
        "    epochs=autoencoder_params['epochs'],\n",
        "    batch_size=autoencoder_params['batch_size']\n",
        ")\n",
        "autoencoder.fit(X_train)"
      ],
      "metadata": {
        "colab": {
          "base_uri": "https://localhost:8080/",
          "height": 74
        },
        "id": "x0RNfSn5CKXj",
        "outputId": "a7e8c90a-bd7c-4b8d-8eb8-b46bec22cd52"
      },
      "execution_count": 40,
      "outputs": [
        {
          "output_type": "execute_result",
          "data": {
            "text/plain": [
              "Autoencoder(encoding_dim=9, input_dim=14)"
            ],
            "text/html": [
              "<style>#sk-container-id-1 {color: black;background-color: white;}#sk-container-id-1 pre{padding: 0;}#sk-container-id-1 div.sk-toggleable {background-color: white;}#sk-container-id-1 label.sk-toggleable__label {cursor: pointer;display: block;width: 100%;margin-bottom: 0;padding: 0.3em;box-sizing: border-box;text-align: center;}#sk-container-id-1 label.sk-toggleable__label-arrow:before {content: \"▸\";float: left;margin-right: 0.25em;color: #696969;}#sk-container-id-1 label.sk-toggleable__label-arrow:hover:before {color: black;}#sk-container-id-1 div.sk-estimator:hover label.sk-toggleable__label-arrow:before {color: black;}#sk-container-id-1 div.sk-toggleable__content {max-height: 0;max-width: 0;overflow: hidden;text-align: left;background-color: #f0f8ff;}#sk-container-id-1 div.sk-toggleable__content pre {margin: 0.2em;color: black;border-radius: 0.25em;background-color: #f0f8ff;}#sk-container-id-1 input.sk-toggleable__control:checked~div.sk-toggleable__content {max-height: 200px;max-width: 100%;overflow: auto;}#sk-container-id-1 input.sk-toggleable__control:checked~label.sk-toggleable__label-arrow:before {content: \"▾\";}#sk-container-id-1 div.sk-estimator input.sk-toggleable__control:checked~label.sk-toggleable__label {background-color: #d4ebff;}#sk-container-id-1 div.sk-label input.sk-toggleable__control:checked~label.sk-toggleable__label {background-color: #d4ebff;}#sk-container-id-1 input.sk-hidden--visually {border: 0;clip: rect(1px 1px 1px 1px);clip: rect(1px, 1px, 1px, 1px);height: 1px;margin: -1px;overflow: hidden;padding: 0;position: absolute;width: 1px;}#sk-container-id-1 div.sk-estimator {font-family: monospace;background-color: #f0f8ff;border: 1px dotted black;border-radius: 0.25em;box-sizing: border-box;margin-bottom: 0.5em;}#sk-container-id-1 div.sk-estimator:hover {background-color: #d4ebff;}#sk-container-id-1 div.sk-parallel-item::after {content: \"\";width: 100%;border-bottom: 1px solid gray;flex-grow: 1;}#sk-container-id-1 div.sk-label:hover label.sk-toggleable__label {background-color: #d4ebff;}#sk-container-id-1 div.sk-serial::before {content: \"\";position: absolute;border-left: 1px solid gray;box-sizing: border-box;top: 0;bottom: 0;left: 50%;z-index: 0;}#sk-container-id-1 div.sk-serial {display: flex;flex-direction: column;align-items: center;background-color: white;padding-right: 0.2em;padding-left: 0.2em;position: relative;}#sk-container-id-1 div.sk-item {position: relative;z-index: 1;}#sk-container-id-1 div.sk-parallel {display: flex;align-items: stretch;justify-content: center;background-color: white;position: relative;}#sk-container-id-1 div.sk-item::before, #sk-container-id-1 div.sk-parallel-item::before {content: \"\";position: absolute;border-left: 1px solid gray;box-sizing: border-box;top: 0;bottom: 0;left: 50%;z-index: -1;}#sk-container-id-1 div.sk-parallel-item {display: flex;flex-direction: column;z-index: 1;position: relative;background-color: white;}#sk-container-id-1 div.sk-parallel-item:first-child::after {align-self: flex-end;width: 50%;}#sk-container-id-1 div.sk-parallel-item:last-child::after {align-self: flex-start;width: 50%;}#sk-container-id-1 div.sk-parallel-item:only-child::after {width: 0;}#sk-container-id-1 div.sk-dashed-wrapped {border: 1px dashed gray;margin: 0 0.4em 0.5em 0.4em;box-sizing: border-box;padding-bottom: 0.4em;background-color: white;}#sk-container-id-1 div.sk-label label {font-family: monospace;font-weight: bold;display: inline-block;line-height: 1.2em;}#sk-container-id-1 div.sk-label-container {text-align: center;}#sk-container-id-1 div.sk-container {/* jupyter's `normalize.less` sets `[hidden] { display: none; }` but bootstrap.min.css set `[hidden] { display: none !important; }` so we also need the `!important` here to be able to override the default hidden behavior on the sphinx rendered scikit-learn.org. See: https://github.com/scikit-learn/scikit-learn/issues/21755 */display: inline-block !important;position: relative;}#sk-container-id-1 div.sk-text-repr-fallback {display: none;}</style><div id=\"sk-container-id-1\" class=\"sk-top-container\"><div class=\"sk-text-repr-fallback\"><pre>Autoencoder(encoding_dim=9, input_dim=14)</pre><b>In a Jupyter environment, please rerun this cell to show the HTML representation or trust the notebook. <br />On GitHub, the HTML representation is unable to render, please try loading this page with nbviewer.org.</b></div><div class=\"sk-container\" hidden><div class=\"sk-item\"><div class=\"sk-estimator sk-toggleable\"><input class=\"sk-toggleable__control sk-hidden--visually\" id=\"sk-estimator-id-1\" type=\"checkbox\" checked><label for=\"sk-estimator-id-1\" class=\"sk-toggleable__label sk-toggleable__label-arrow\">Autoencoder</label><div class=\"sk-toggleable__content\"><pre>Autoencoder(encoding_dim=9, input_dim=14)</pre></div></div></div></div></div>"
            ]
          },
          "metadata": {},
          "execution_count": 40
        }
      ]
    },
    {
      "cell_type": "code",
      "source": [
        "# Autoencoder를 사용하여 특징 추출\n",
        "encoded_X_train = autoencoder.transform(X_train)\n",
        "encoded_X_test = autoencoder.transform(X_test)"
      ],
      "metadata": {
        "colab": {
          "base_uri": "https://localhost:8080/"
        },
        "id": "RZG_rkWECLKE",
        "outputId": "7de5149c-f5c4-4f58-8d15-3a254510cd78"
      },
      "execution_count": 41,
      "outputs": [
        {
          "output_type": "stream",
          "name": "stdout",
          "text": [
            "95972/95972 [==============================] - 126s 1ms/step\n",
            "23993/23993 [==============================] - 31s 1ms/step\n"
          ]
        }
      ]
    },
    {
      "cell_type": "code",
      "source": [],
      "metadata": {
        "id": "hhQcMdixKucI"
      },
      "execution_count": null,
      "outputs": []
    },
    {
      "cell_type": "markdown",
      "source": [
        "# **IF_REAL**"
      ],
      "metadata": {
        "id": "Q4ki66oNN_4R"
      }
    },
    {
      "cell_type": "code",
      "source": [
        "from sklearn.ensemble import IsolationForest\n",
        "outlier_fraction = a/b\n",
        "\n",
        "print(outlier_fraction)\n"
      ],
      "metadata": {
        "colab": {
          "base_uri": "https://localhost:8080/"
        },
        "id": "RJKYB569ODAK",
        "outputId": "55320d27-310e-4975-b162-6447bfed51bd"
      },
      "execution_count": 42,
      "outputs": [
        {
          "output_type": "stream",
          "name": "stdout",
          "text": [
            "0.14695119901703385\n"
          ]
        }
      ]
    },
    {
      "cell_type": "code",
      "source": [
        "\n",
        "# Isolation Forest 모델 생성 및 학습\n",
        "clf = IsolationForest(n_estimators=100, max_samples=len(X), contamination=outlier_fraction,random_state=5, verbose=0)  # 이상치 비율 설정\n",
        "clf.fit(encoded_X_train)\n",
        "scores_prediction = clf.decision_function(encoded_X_train)\n",
        "y_pred = clf.predict(encoded_X_test)"
      ],
      "metadata": {
        "colab": {
          "base_uri": "https://localhost:8080/"
        },
        "id": "J7-qLwHGTtJ0",
        "outputId": "0f5d5921-f411-4ad0-cb99-8b623be5d668"
      },
      "execution_count": 43,
      "outputs": [
        {
          "output_type": "stream",
          "name": "stderr",
          "text": [
            "/usr/local/lib/python3.10/dist-packages/sklearn/ensemble/_iforest.py:307: UserWarning: max_samples (3838860) is greater than the total number of samples (3071088). max_samples will be set to n_samples for estimation.\n",
            "  warn(\n"
          ]
        }
      ]
    },
    {
      "cell_type": "code",
      "source": [
        "#Reshape the prediction values to 0 for Valid transactions , 2 for Fraud transactions\n",
        "y_pred[y_pred == 1] = 0\n",
        "y_pred[y_pred == -1] = 2"
      ],
      "metadata": {
        "id": "xGGdziLQS-H0"
      },
      "execution_count": 44,
      "outputs": []
    },
    {
      "cell_type": "code",
      "source": [
        "\n",
        "#y_pred랑 y_test랑 비교해야함\n",
        "import seaborn\n",
        "print(\"Accuracy Score :\")\n",
        "print(accuracy_score(Y_test,y_pred))\n",
        "print(\"Classification Report :\")\n",
        "print(classification_report(Y_test,y_pred))\n",
        "\n",
        "cm = confusion_matrix(Y_test, y_pred)\n",
        "\n",
        "cm_matrix = pd.DataFrame(data=cm, columns=['Benign','Fuzzy'], \n",
        "                              index=['Benign', 'Fuzzy'])\n",
        "\n",
        "seaborn.heatmap(cm_matrix, annot=True, fmt='d', cmap='YlGnBu')"
      ],
      "metadata": {
        "colab": {
          "base_uri": "https://localhost:8080/",
          "height": 666
        },
        "id": "zcbwzQlPTE7_",
        "outputId": "f5bc920b-56c0-4305-8062-bc2bee316e63"
      },
      "execution_count": 46,
      "outputs": [
        {
          "output_type": "stream",
          "name": "stdout",
          "text": [
            "Accuracy Score :\n",
            "0.9580109720073147\n",
            "Classification Report :\n",
            "              precision    recall  f1-score   support\n",
            "\n",
            "           0       0.99      0.96      0.98    669403\n",
            "           2       0.79      0.91      0.85     98369\n",
            "\n",
            "    accuracy                           0.96    767772\n",
            "   macro avg       0.89      0.94      0.91    767772\n",
            "weighted avg       0.96      0.96      0.96    767772\n",
            "\n"
          ]
        },
        {
          "output_type": "execute_result",
          "data": {
            "text/plain": [
              "<Axes: >"
            ]
          },
          "metadata": {},
          "execution_count": 46
        },
        {
          "output_type": "display_data",
          "data": {
            "text/plain": [
              "<Figure size 640x480 with 2 Axes>"
            ],
            "image/png": "[encoded data removed]"
          },
          "metadata": {}
        }
      ]
    }
  ],
  "metadata": {
    "colab": {
      "provenance": [],
      "authorship_tag": "ABX9TyN514rYArne4Nnk5DAE15IB",
      "include_colab_link": true
    },
    "kernelspec": {
      "display_name": "Python 3",
      "name": "python3"
    },
    "language_info": {
      "name": "python"
    }
  },
  "nbformat": 4,
  "nbformat_minor": 0
}